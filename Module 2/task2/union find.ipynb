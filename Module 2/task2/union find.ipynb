{
 "cells": [
  {
   "cell_type": "code",
   "execution_count": 1,
   "metadata": {},
   "outputs": [],
   "source": [
    "def find(data, i):\n",
    "    if i != data[i]:\n",
    "        data[i] = find(data, data[i])\n",
    "    return data[i]\n",
    "def union(data, i, j):\n",
    "    pi, pj = find(data, i), find(data, j)\n",
    "    if pi != pj:\n",
    "        data[pi] = pj\n",
    "def connected(data, i, j):\n",
    "    return find(data, i) == find(data, j)"
   ]
  },
  {
   "cell_type": "code",
   "execution_count": 2,
   "metadata": {},
   "outputs": [
    {
     "name": "stdout",
     "output_type": "stream",
     "text": [
      "item 0 -> component 9\n",
      "item 1 -> component 9\n",
      "item 2 -> component 9\n",
      "item 3 -> component 3\n",
      "item 4 -> component 9\n",
      "item 5 -> component 9\n",
      "item 6 -> component 9\n",
      "item 7 -> component 7\n",
      "item 8 -> component 8\n",
      "item 9 -> component 9\n"
     ]
    }
   ],
   "source": [
    "n = 10\n",
    "data = [i for i in range(n)]\n",
    "connections = [(0, 1), (1, 2), (0, 9), (5, 6), (6, 4), (5, 9)]\n",
    "# union\n",
    "for i, j in connections:\n",
    "    union(data, i, j)\n",
    "# find\n",
    "for i in range(n):\n",
    "    print('item', i, '-> component', find(data, i))"
   ]
  },
  {
   "cell_type": "code",
   "execution_count": 7,
   "metadata": {},
   "outputs": [
    {
     "name": "stdout",
     "output_type": "stream",
     "text": [
      "item 0 -> component 5\n",
      "item 1 -> component 5\n",
      "item 2 -> component 4\n",
      "item 3 -> component 5\n",
      "item 4 -> component 4\n",
      "item 5 -> component 5\n"
     ]
    }
   ],
   "source": [
    "data_id = ['a','b','c','d','e','g']\n",
    "n = len(data_id)\n",
    "max_distance = 5\n",
    "data = [i for i in range(n)]\n",
    "data_distance = [1,8,25,5,22,10]\n",
    "connections = []\n",
    "\n",
    "for i1 in data:\n",
    "    for i2 in data:\n",
    "        if i1 == i2:\n",
    "            continue\n",
    "            \n",
    "        if abs(data_distance[i1] - data_distance[i2]) < max_distance:\n",
    "            union(data, i1, i2)\n",
    "            \n",
    "for i in range(n):\n",
    "    print('item', i, '-> component', find(data, i))            \n"
   ]
  },
  {
   "cell_type": "code",
   "execution_count": null,
   "metadata": {},
   "outputs": [],
   "source": []
  }
 ],
 "metadata": {
  "kernelspec": {
   "display_name": "Python 3",
   "language": "python",
   "name": "python3"
  },
  "language_info": {
   "codemirror_mode": {
    "name": "ipython",
    "version": 3
   },
   "file_extension": ".py",
   "mimetype": "text/x-python",
   "name": "python",
   "nbconvert_exporter": "python",
   "pygments_lexer": "ipython3",
   "version": "3.7.3"
  }
 },
 "nbformat": 4,
 "nbformat_minor": 2
}
