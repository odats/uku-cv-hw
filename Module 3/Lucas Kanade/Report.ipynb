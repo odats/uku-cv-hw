{
 "cells": [
  {
   "cell_type": "markdown",
   "metadata": {},
   "source": [
    "### Summary\n",
    "Based on 3 different datasets I have found that there are always conditions when algorithms lost track. The main reasons are:\n",
    "- the intensity of the light changes (tunnel, there is shadow when a car is under the bridge,... )\n",
    "- another similar object comes close to the tracking object and the tracker starts to track a new one (occlusion)\n",
    "- when the camera is highly not stable\n",
    "- noice: rain, snow, puddle, sky, clouds,...\n",
    "\n",
    "Default template matching does not use additional information like previous location and how the object was changing during the time. All the approaches (SSD, NCC, SAD...) have the same issue. Tracking object will look different during tracking time. When the difference between the initial template and the current object become significant (due to mentioned reasons) we lose track.\n",
    "\n",
    "Lucas Kanade and other optical flow algorithms are more stable due to using gradients of normalized images rather than pixel features of the template. Image pyramids also improve stability when the object moves fast (jumps). When we downsize the image the distance decreases proportionally and we can track the moving object better.\n",
    "\n",
    "How to improve:\n",
    "There should be another level of abstraction. It should contain memory and model of the environment to predict the future and follow the desired object. Template matching should collect experience, extract common patterns and improve matching. "
   ]
  },
  {
   "cell_type": "code",
   "execution_count": null,
   "metadata": {},
   "outputs": [],
   "source": []
  }
 ],
 "metadata": {
  "kernelspec": {
   "display_name": "Python 3",
   "language": "python",
   "name": "python3"
  },
  "language_info": {
   "codemirror_mode": {
    "name": "ipython",
    "version": 3
   },
   "file_extension": ".py",
   "mimetype": "text/x-python",
   "name": "python",
   "nbconvert_exporter": "python",
   "pygments_lexer": "ipython3",
   "version": "3.7.3"
  }
 },
 "nbformat": 4,
 "nbformat_minor": 2
}
