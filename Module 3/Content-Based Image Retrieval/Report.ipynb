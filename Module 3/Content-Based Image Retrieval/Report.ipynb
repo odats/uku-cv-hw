{
 "cells": [
  {
   "cell_type": "markdown",
   "metadata": {},
   "source": [
    "### Report\n",
    "\n",
    "I have used grayscale images and Euclidean distance to find similar images. \n",
    "\n",
    "The search algorithm is not universal. There are always success and failure cases. It highly depends on the query image and how it is related to the rest images in the data set.  \n",
    "\n",
    "* Background: sometimes background fills a big portion of the image. For example sky, table,... When the algorithm compares 2 images the similarity between backgrounds makes a high impact on matching.\n",
    "\n",
    "* Complicated images like flowers can have high similarity with totally different images due to the similar distribution of colors. It is because we do not count the relative position of the pixels. If we start to count relative positions we can get another problem: the same object but from a different angle will not match. Distributions of pixels intensity will be the same but the coordinates will be different.\n",
    "\n",
    "* Sometimes algorithms can mismatch due to similar shapes and colors of the borders.\n",
    "\n",
    "* Most of the successive cases had a similar structure: query and successive images had no significant difference like small changes in observation angle"
   ]
  },
  {
   "cell_type": "code",
   "execution_count": null,
   "metadata": {},
   "outputs": [],
   "source": []
  }
 ],
 "metadata": {
  "kernelspec": {
   "display_name": "Python 3",
   "language": "python",
   "name": "python3"
  },
  "language_info": {
   "codemirror_mode": {
    "name": "ipython",
    "version": 3
   },
   "file_extension": ".py",
   "mimetype": "text/x-python",
   "name": "python",
   "nbconvert_exporter": "python",
   "pygments_lexer": "ipython3",
   "version": "3.7.1"
  }
 },
 "nbformat": 4,
 "nbformat_minor": 2
}
