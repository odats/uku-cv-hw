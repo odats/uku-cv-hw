{
 "cells": [
  {
   "cell_type": "code",
   "execution_count": 8,
   "metadata": {},
   "outputs": [],
   "source": [
    "# http://www.cs.utexas.edu/~pstone/Courses/393Rfall13/readings/Welch+Bishop-TR-95.pdf\n",
    "\n",
    "import numpy as np\n",
    "import matplotlib.pyplot as plt"
   ]
  },
  {
   "cell_type": "code",
   "execution_count": 2,
   "metadata": {},
   "outputs": [],
   "source": [
    "REAL_VALUE = 10\n",
    "R = 1\n",
    "Q = 0"
   ]
  },
  {
   "cell_type": "code",
   "execution_count": 3,
   "metadata": {},
   "outputs": [],
   "source": [
    "def measure():\n",
    "    mu, sigma = 0, R # mean and standard deviation\n",
    "    noise = np.random.normal(mu, sigma)\n",
    "    return REAL_VALUE + noise"
   ]
  },
  {
   "cell_type": "code",
   "execution_count": 4,
   "metadata": {},
   "outputs": [],
   "source": [
    "measurements = []\n",
    "for i in range(10):\n",
    "    measurements.append(measure())"
   ]
  },
  {
   "cell_type": "code",
   "execution_count": 5,
   "metadata": {},
   "outputs": [
    {
     "data": {
      "image/png": "[encoded data removed]",
      "text/plain": [
       "<Figure size 432x288 with 1 Axes>"
      ]
     },
     "metadata": {
      "needs_background": "light"
     },
     "output_type": "display_data"
    }
   ],
   "source": [
    "plt.plot(measurements)\n",
    "plt.show()"
   ]
  },
  {
   "cell_type": "code",
   "execution_count": 6,
   "metadata": {},
   "outputs": [
    {
     "name": "stdout",
     "output_type": "stream",
     "text": [
      "9.109499482627443\n",
      "9.02591797301772\n",
      "9.622066688267601\n",
      "9.744393653503934\n",
      "9.579480794944974\n",
      "9.700180547655904\n",
      "9.703096292416816\n",
      "9.751216097063756\n",
      "10.035494504399386\n"
     ]
    }
   ],
   "source": [
    "estimation_x = [8]\n",
    "estimation_p = [1]\n",
    "\n",
    "for i in range(1, len(measurements)):\n",
    "    # prediction\n",
    "    X_estimated = 1*estimation_x[i-1] + 1*0\n",
    "    P = estimation_p[i-1] + Q\n",
    "    \n",
    "    # correction\n",
    "    K = P / (P+R)\n",
    "    X_measured = measurements[i]\n",
    "    X_predicted = X_estimated + K*(X_measured - X_estimated)\n",
    "    P_predicted = (1-K)*P\n",
    "    \n",
    "    # save\n",
    "    estimation_x.append(X_predicted)\n",
    "    estimation_p.append(P_predicted)\n",
    "    \n",
    "    print(X_predicted)\n"
   ]
  },
  {
   "cell_type": "code",
   "execution_count": 7,
   "metadata": {},
   "outputs": [
    {
     "data": {
      "text/plain": [
       "[1,\n",
       " 0.5,\n",
       " 0.33333333333333337,\n",
       " 0.25,\n",
       " 0.2,\n",
       " 0.16666666666666666,\n",
       " 0.14285714285714285,\n",
       " 0.125,\n",
       " 0.1111111111111111,\n",
       " 0.09999999999999999]"
      ]
     },
     "execution_count": 7,
     "metadata": {},
     "output_type": "execute_result"
    }
   ],
   "source": [
    "estimation_p"
   ]
  },
  {
   "cell_type": "code",
   "execution_count": null,
   "metadata": {},
   "outputs": [],
   "source": []
  }
 ],
 "metadata": {
  "kernelspec": {
   "display_name": "Python 3",
   "language": "python",
   "name": "python3"
  },
  "language_info": {
   "codemirror_mode": {
    "name": "ipython",
    "version": 3
   },
   "file_extension": ".py",
   "mimetype": "text/x-python",
   "name": "python",
   "nbconvert_exporter": "python",
   "pygments_lexer": "ipython3",
   "version": "3.7.3"
  }
 },
 "nbformat": 4,
 "nbformat_minor": 2
}
