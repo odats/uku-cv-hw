{
 "cells": [
  {
   "cell_type": "markdown",
   "metadata": {},
   "source": [
    "### Summary\n",
    "Based on 6 different datasets I have found that tracking highly depends on the features we choose to build object representation (histogram). \n",
    "\n",
    "I have tried to convert the template from RGB to HSV. The best channel was Hue. I have also added Value to improve stability. Nevertheless, it is hard to get stable results due to the light changing conditions of the scene. For example, Bird had a purple color but the corners of the cloud had a similar color. When light condition changes (shadows cover the sun) and bird flies around the cloud the mean-shift lost the bird and start to follow the cloud. To improve this behavior additional set of features should be integrated. For example  the form of the object (size, edges,...) Sometimes, background and the object have similar colors. Filltering them out improves tracking.\n",
    "\n",
    "There is a big problem with classical MeanShift: when the object moves to the camera and moves from the camera. It implies changing the size of the object. The CumShift deals greatly with this issue.\n",
    "\n",
    "When we claster points the MeanShift showed very good results. The main challenge is to estimate initial bandwidth value. I have used sklearn estimate_bandwidth to find the best estimation. Usually, when we talk about clustering, MeanShift is compared to KMeans. The main argument for MeanShift is that you do not need to specify the number of clusters. Based on my experiments I saw that tuning bandwidth have the same impact as the number of clusters in KMeans. Different values imply different number of clusters. Even sklearn estimate_bandwidth will not estimate the bandwidth perfectly. Mistake in this estimation will result in big mistate in final number of clasters."
   ]
  },
  {
   "cell_type": "code",
   "execution_count": null,
   "metadata": {},
   "outputs": [],
   "source": []
  }
 ],
 "metadata": {
  "kernelspec": {
   "display_name": "Python 3",
   "language": "python",
   "name": "python3"
  },
  "language_info": {
   "codemirror_mode": {
    "name": "ipython",
    "version": 3
   },
   "file_extension": ".py",
   "mimetype": "text/x-python",
   "name": "python",
   "nbconvert_exporter": "python",
   "pygments_lexer": "ipython3",
   "version": "3.7.3"
  }
 },
 "nbformat": 4,
 "nbformat_minor": 2
}
