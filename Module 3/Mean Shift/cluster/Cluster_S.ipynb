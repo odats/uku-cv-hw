{
 "cells": [
  {
   "cell_type": "code",
   "execution_count": 1,
   "metadata": {},
   "outputs": [],
   "source": [
    "import pandas as pd\n",
    "from sklearn.cluster import MeanShift, estimate_bandwidth\n",
    "import numpy as np\n",
    "from sklearn.metrics import mean_squared_error\n"
   ]
  },
  {
   "cell_type": "code",
   "execution_count": 2,
   "metadata": {},
   "outputs": [],
   "source": [
    "cluster_centers_true = pd.read_csv('s-originals/s1-cb.txt', header=None, delim_whitespace=True, lineterminator='\\n', names=['x','y'])\n",
    "cluster_centers_true = cluster_centers_true.to_numpy()\n",
    "\n",
    "X = pd.read_csv('s1.txt', header=None, delim_whitespace=True, lineterminator='\\n', names=['x','y'])\n",
    "x = np.array(X)"
   ]
  },
  {
   "cell_type": "code",
   "execution_count": 3,
   "metadata": {},
   "outputs": [
    {
     "name": "stdout",
     "output_type": "stream",
     "text": [
      "bandwidth: 64188.48401419818, clasters: 15\n"
     ]
    }
   ],
   "source": [
    "bandwidth = estimate_bandwidth(x, quantile=0.05, n_samples=500)\n",
    "\n",
    "ms = MeanShift(bandwidth=bandwidth).fit(x)\n",
    "\n",
    "labels = ms.labels_\n",
    "cluster_centers = ms.cluster_centers_.astype(int)\n",
    "\n",
    "labels_unique = np.unique(labels)\n",
    "n_clusters_ = len(labels_unique)\n",
    "\n",
    "print('bandwidth: {}, clasters: {}'.format(bandwidth, n_clusters_))"
   ]
  },
  {
   "cell_type": "code",
   "execution_count": 4,
   "metadata": {},
   "outputs": [
    {
     "name": "stdout",
     "output_type": "stream",
     "text": [
      "Total error: 13713.31\n"
     ]
    }
   ],
   "source": [
    "# sort by X\n",
    "cluster_centers_true = cluster_centers_true[cluster_centers_true[:, 0].argsort()]\n",
    "cluster_centers = cluster_centers[cluster_centers[:, 0].argsort()]\n",
    "\n",
    "error = np.sum(np.sqrt(np.sum(np.square(np.subtract(cluster_centers_true, cluster_centers)), axis=0)))\n",
    "\n",
    "print('Total error: {0:.2f}'.format(error))"
   ]
  },
  {
   "cell_type": "code",
   "execution_count": null,
   "metadata": {},
   "outputs": [],
   "source": []
  },
  {
   "cell_type": "code",
   "execution_count": null,
   "metadata": {},
   "outputs": [],
   "source": []
  }
 ],
 "metadata": {
  "kernelspec": {
   "display_name": "Python 3",
   "language": "python",
   "name": "python3"
  },
  "language_info": {
   "codemirror_mode": {
    "name": "ipython",
    "version": 3
   },
   "file_extension": ".py",
   "mimetype": "text/x-python",
   "name": "python",
   "nbconvert_exporter": "python",
   "pygments_lexer": "ipython3",
   "version": "3.7.3"
  }
 },
 "nbformat": 4,
 "nbformat_minor": 2
}
