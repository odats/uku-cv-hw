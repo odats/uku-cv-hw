{
 "cells": [
  {
   "cell_type": "code",
   "execution_count": 2,
   "metadata": {},
   "outputs": [],
   "source": [
    "import pandas as pd\n",
    "from sklearn.cluster import MeanShift, estimate_bandwidth\n",
    "import numpy as np\n",
    "from sklearn.metrics import mean_squared_error\n"
   ]
  },
  {
   "cell_type": "code",
   "execution_count": 3,
   "metadata": {},
   "outputs": [],
   "source": [
    "cluster_centers_true = np.array([500, 600])\n",
    "\n",
    "X = pd.read_csv('g2-1-10.txt', header=None, delim_whitespace=True, lineterminator='\\n', names=['x'])\n",
    "x = np.array(X)"
   ]
  },
  {
   "cell_type": "code",
   "execution_count": 6,
   "metadata": {},
   "outputs": [
    {
     "name": "stdout",
     "output_type": "stream",
     "text": [
      "bandwidth: 8.03, clasters: 2\n"
     ]
    }
   ],
   "source": [
    "bandwidth = estimate_bandwidth(x, quantile=0.2, n_samples=500)\n",
    "\n",
    "ms = MeanShift(bandwidth=bandwidth).fit(x)\n",
    "\n",
    "labels = ms.labels_\n",
    "cluster_centers = ms.cluster_centers_.astype(int)\n",
    "\n",
    "labels_unique = np.unique(labels)\n",
    "n_clusters_ = len(labels_unique)\n",
    "\n",
    "print('bandwidth: {}, clasters: {}'.format(bandwidth, n_clusters_))"
   ]
  },
  {
   "cell_type": "code",
   "execution_count": 11,
   "metadata": {},
   "outputs": [
    {
     "name": "stdout",
     "output_type": "stream",
     "text": [
      "Total error: 1.41\n"
     ]
    }
   ],
   "source": [
    "# sort by X\n",
    "cluster_centers_true = np.sort(cluster_centers_true).flatten()\n",
    "cluster_centers = np.sort(cluster_centers).flatten()\n",
    "\n",
    "error = np.sum(np.sqrt(np.sum(np.square(np.subtract(cluster_centers_true, cluster_centers)), axis=0)))\n",
    "\n",
    "print('Total error: {0:.2f}'.format(error))"
   ]
  },
  {
   "cell_type": "code",
   "execution_count": null,
   "metadata": {},
   "outputs": [],
   "source": []
  }
 ],
 "metadata": {
  "kernelspec": {
   "display_name": "Python 3",
   "language": "python",
   "name": "python3"
  },
  "language_info": {
   "codemirror_mode": {
    "name": "ipython",
    "version": 3
   },
   "file_extension": ".py",
   "mimetype": "text/x-python",
   "name": "python",
   "nbconvert_exporter": "python",
   "pygments_lexer": "ipython3",
   "version": "3.7.3"
  }
 },
 "nbformat": 4,
 "nbformat_minor": 2
}
